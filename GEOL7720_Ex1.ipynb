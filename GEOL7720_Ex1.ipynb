{
 "cells": [
  {
   "cell_type": "markdown",
   "metadata": {},
   "source": [
    "# GEOL 7720 - Exercise 1\n",
    "###### Ian Deniset - Sept. 14$^{th}$ 2017\n",
    "\n",
    "## Solving for two data point density structure of the earth\n",
    "\n",
    "\n",
    "##### Problem\n",
    "Given the mean density of the earth ($\\bar \\rho$) along with its moment of inertia ($I$), parameterize the problem and determine a simple two term density structure of the earth and subsequently compare with PREM data.\n",
    "\n",
    "##### The Approach\n",
    "The basic approach will be to separate the earth into a simple two layer model at the core mantle boundary and solve for the density of each of the two layers - $\\rho_1$ and $\\rho_2$\n",
    "\n",
    "##### Theory and Solution\n",
    "The mean density $\\bar \\rho$ of the earth is given by:\n",
    "\n",
    "$$\\bar \\rho = \\frac{M}{V} = \\frac{1}{\\frac{4}{3} \\pi R^3} \\int_0^R 4 \\pi r^2 \\rho (r) dr = \\frac{3}{R^3} \\int_0^R r^2 \\rho (r) dr$$\n",
    "\n",
    "The moment of inertia $I$ of the earth is given by:\n",
    "\n",
    "$$I = \\int_0^R \\frac{2}{3}r^2 4 \\pi r^2 \\rho (r) dr = \\frac{8}{3} \\pi \\int_0^R r^4 \\rho (r) dr$$\n",
    "\n",
    "Both of these integrals represent an inner-product (basically a dot product of two real functions over a fixed interval) of density with a kernel function weighted by radius:\n",
    "\n",
    "$$\\bar \\rho = \\frac{3}{R^3} \\int_0^R r^2 \\rho (r) dr = <k_1, \\rho>$$\n",
    "$$I = \\frac{8}{3} \\pi \\int_0^R r^4 \\rho (r) dr = <k_2, \\rho>$$\n",
    "\n",
    "where $k_1(r)$ and $k_2(r)$ are the kernel functions:\n",
    "$$k_1(r) = \\frac{3}{R^3}r^2$$\n",
    "$$k_2(r) = \\frac{8}{3} \\pi r^4$$\n",
    "\n",
    "This allows us to apply linear constraints to the density structure of the earth and parameterize the problem so it can be solved as a linear inverse problem of the form $d=Am$.  In this case, the data points $d$ will be both the mean density of the earth ($\\bar \\rho$) and its moment of inertia ($I$), while the model parameter values $m$ will be the two density terms we are solving for.  The kernel functions will represent the sensitivity matrix $A$, which in this case will be a 2x2 matrix.\n",
    "\n",
    "The equation $d=Am$ can thus be written as...\n",
    "\n",
    "$\n",
    "\\begin{bmatrix}\n",
    "d_1 \\\\ \n",
    "d_2\n",
    "\\end{bmatrix}\n",
    "=\n",
    "\\begin{bmatrix}\n",
    "A_{11} & A_{12} \\\\ \n",
    "A_{21} & A_{22}\n",
    "\\end{bmatrix}\n",
    "\\begin{bmatrix}\n",
    "m_1 \\\\ \n",
    "m_2\n",
    "\\end{bmatrix}\n",
    "$\n",
    "\n",
    "... and becomes...\n",
    "\n",
    "$\n",
    "\\begin{bmatrix}\n",
    "\\bar \\rho \\\\ \n",
    "I\n",
    "\\end{bmatrix}\n",
    "=\n",
    "\\begin{bmatrix}\n",
    "\\int_0^{r_1} k_1 (r)dr & \\int_{r_1}^{r_2} k_1 (r)dr \\\\ \n",
    "\\int_0^{r_1} k_2 (r)dr & \\int_{r_1}^{r_2} k_2 (r)dr\n",
    "\\end{bmatrix}\n",
    "\\begin{bmatrix}\n",
    "\\rho_1 \\\\ \n",
    "\\rho_2\n",
    "\\end{bmatrix}\n",
    "$\n",
    "\n",
    "...replace kernel functions...\n",
    "\n",
    "$\n",
    "\\begin{bmatrix}\n",
    "\\bar \\rho \\\\ \n",
    "I\n",
    "\\end{bmatrix}\n",
    "=\n",
    "\\begin{bmatrix}\n",
    "\\frac{3}{R^3}\\int_0^{r_1} r^2 dr & \\frac{3}{R^3}\\int_{r_1}^{r_2} r^2 dr \\\\ \n",
    "\\frac{8}{3} \\pi \\int_0^{r_1} r^4 dr & \\frac{8}{3} \\pi \\int_{r_1}^{r_2} r^4 dr\n",
    "\\end{bmatrix}\n",
    "\\begin{bmatrix}\n",
    "\\rho_1 \\\\ \n",
    "\\rho_2\n",
    "\\end{bmatrix}\n",
    "$\n",
    "\n",
    "...solve integrals...\n",
    "\n",
    "$\n",
    "\\begin{bmatrix}\n",
    "\\bar \\rho \\\\ \n",
    "I\n",
    "\\end{bmatrix}\n",
    "=\n",
    "\\begin{bmatrix}\n",
    "\\frac{1}{R^3}(r_1^{3}-r_0^{3}) & \\frac{1}{R^3}(r_2^{3}-r_1^{3}) \\\\ \n",
    "\\frac{8}{15} \\pi (r_1^{5}-r_0^{5})& \\frac{8}{15} \\pi (r_2^{5}-r_1^{5})\n",
    "\\end{bmatrix}\n",
    "\\begin{bmatrix}\n",
    "\\rho_1 \\\\ \n",
    "\\rho_2\n",
    "\\end{bmatrix}\n",
    "$\n",
    "\n",
    "\n",
    "The two data points, $\\bar \\rho$ and $I$ are knowns and given in the notes to be:\n",
    "\n",
    "$\\bar \\rho = 5517 kg/m^3$ and $I = 0.33078$x$M$x$R^2$ \n",
    "\n",
    "where $M$ is the mass of the earth and $R$ is the radius\n",
    "\n",
    "Using this information, the two term density structure for the earth can be determined using the the core mantle boundary at radius 3480 km as an integral bound.\n",
    "\n",
    "### Numerical Solution"
   ]
  },
  {
   "cell_type": "code",
   "execution_count": 1,
   "metadata": {
    "collapsed": true
   },
   "outputs": [],
   "source": [
    "#import usual modules for analysis\n",
    "import warnings\n",
    "warnings.filterwarnings('ignore')\n",
    "\n",
    "import numpy as np\n",
    "import scipy.linalg"
   ]
  },
  {
   "cell_type": "code",
   "execution_count": 2,
   "metadata": {
    "collapsed": true
   },
   "outputs": [],
   "source": [
    "#define constants that will be used in integrals \n",
    "const1 = 1.0/(6371000**3)\n",
    "const2 = (8.0/15.)*(np.pi)\n",
    "r0, r1, r2, = 0.0, 3480000., 6371000.       #radius bounds for integrals \n",
    "earthMass = 5.972e24                        #mass of the earth"
   ]
  },
  {
   "cell_type": "code",
   "execution_count": 3,
   "metadata": {
    "collapsed": true
   },
   "outputs": [],
   "source": [
    "#define our data array of known values\n",
    "d = np.array([5517, 0.33078*earthMass*(r2**2)])"
   ]
  },
  {
   "cell_type": "code",
   "execution_count": 4,
   "metadata": {
    "collapsed": true
   },
   "outputs": [],
   "source": [
    "#define the sensitivity matrix using the integrated kernel functions derived above\n",
    "A = np.array([[const1*(r1**3-r0**3), const1*(r2**3-r1**3)],[const2*(r1**5-r0**5), const2*(r2**5-r1**5)]])"
   ]
  },
  {
   "cell_type": "code",
   "execution_count": 5,
   "metadata": {
    "collapsed": false
   },
   "outputs": [
    {
     "name": "stdout",
     "output_type": "stream",
     "text": [
      "The two layer density structure values are:  12528.1809028 and 4151.89367937\n"
     ]
    }
   ],
   "source": [
    "#solve the system of linear equations; two equations, two unknows\n",
    "m = np.linalg.solve(A,d)\n",
    "print(\"The two layer density structure values are: \", m[0], \"and\", m[1])"
   ]
  },
  {
   "cell_type": "markdown",
   "metadata": {},
   "source": [
    "##### Summary\n",
    "\n",
    "As can be seen from the solution, the earth's radial density distribution is not uniform and exhibits a large jump at radius 3480 km signifying a change from the inner/outer core which has a calculated density of approximately 12500 $kg/m^3$ to the mantle which is around 4200 $kg/m^3$.  \n",
    "\n",
    "When compared to the Preliminary Reference Earth Model data shown below, the simple two data point solution proves to be quite robust.   \n",
    "\n",
    "<img src='RadialDensityPREM.jpg'>"
   ]
  }
 ],
 "metadata": {
  "anaconda-cloud": {},
  "kernelspec": {
   "display_name": "Python [default]",
   "language": "python",
   "name": "python3"
  },
  "language_info": {
   "codemirror_mode": {
    "name": "ipython",
    "version": 3
   },
   "file_extension": ".py",
   "mimetype": "text/x-python",
   "name": "python",
   "nbconvert_exporter": "python",
   "pygments_lexer": "ipython3",
   "version": "3.5.2"
  }
 },
 "nbformat": 4,
 "nbformat_minor": 1
}
